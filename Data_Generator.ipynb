{
 "cells": [
  {
   "cell_type": "code",
   "execution_count": null,
   "metadata": {},
   "outputs": [],
   "source": [
    "import comtypes.client\n",
    "import random"
   ]
  },
  {
   "cell_type": "code",
   "execution_count": null,
   "metadata": {},
   "outputs": [],
   "source": [
    "\n",
    "# 连接到运行中的 SAP2000\n",
    "sap_object = comtypes.client.GetActiveObject(\"CSI.SAP2000.API.SapObject\")\n",
    "SapModel = sap_object.SapModel\n",
    "\n",
    "# 解锁模型\n",
    "SapModel.SetModelIsLocked(False)\n",
    "\n",
    "# 设置单位\n",
    "SapModel.SetPresentUnits(9)  # 设定单位为 N/mm^2\n",
    "\n",
    "num_z = 3\n",
    "num_x = 7\n",
    "num_y = 7\n",
    "\n",
    "SapModel.SetModelIsLocked(False)"
   ]
  },
  {
   "cell_type": "code",
   "execution_count": null,
   "metadata": {},
   "outputs": [],
   "source": [
    "def random_goods_distribution(num_z, num_x, num_y):\n",
    "    # 创建一个 num_z 行，num_x * num_y 列的矩阵\n",
    "    distribution_matrix = []\n",
    "\n",
    "    #创建一个num_z*num_x*num_y的一维数组\n",
    "    good_id = []\n",
    "    \n",
    "    for layer in range(num_z):\n",
    "        # 随机生成当前层的货物分布，0 或 1\n",
    "        distribution = [random.choice([0, 1]) for _ in range(num_x * num_y)]\n",
    "        distribution_matrix.append(distribution)  # 将当前层的分布添加到矩阵中\n",
    "        \n",
    "    return distribution_matrix\n",
    "\n",
    "# 示例调用\n",
    "num_z = 3  # 层数\n",
    "num_x = 7  # 每层的货位数（假设）\n",
    "num_y = 7  # 每层的货位数（假设）\n",
    "\n",
    "distribution_matrix = random_goods_distribution(num_z, num_x, num_y)\n",
    "for layer in distribution_matrix:\n",
    "    print(layer)\n",
    "\n",
    "print(distribution_matrix)\n",
    "\n",
    "#转为一维数组\n",
    "#flattened_distribution = [item for sublist in distribution_matrix for item in sublist]\n",
    "#print(flattened_distribution)\n"
   ]
  },
  {
   "cell_type": "code",
   "execution_count": null,
   "metadata": {},
   "outputs": [],
   "source": [
    "# 循环进行随机货位分布并计算频率\n",
    "num_trials = 10 # 模拟次数\n",
    "total_weight_per_layer = 1  # 每层1t重\n",
    "surface_pressure_area = 1000000*9.8 / (2000*2000)  # 均布面力，可以根据需要调整\n"
   ]
  },
  {
   "cell_type": "code",
   "execution_count": null,
   "metadata": {},
   "outputs": [
    {
     "ename": "SyntaxError",
     "evalue": "invalid syntax (1104171777.py, line 38)",
     "output_type": "error",
     "traceback": [
      "\u001b[1;36m  Cell \u001b[1;32mIn[16], line 38\u001b[1;36m\u001b[0m\n\u001b[1;33m    result = SapModel.Results.ModalPeriod(NumberResults, LoadCase, StepType, StepNum, Period, Frequency, CircFreq, EigenValue)print(result[6])  # 6 代表CircFreq\u001b[0m\n\u001b[1;37m                                                                                                                              ^\u001b[0m\n\u001b[1;31mSyntaxError\u001b[0m\u001b[1;31m:\u001b[0m invalid syntax\n"
     ]
    }
   ],
   "source": [
    "#根据货位分布矩阵，对结构施加均布面力，然后进行模态分析\n",
    "num_loc = num_x * num_y*num_z  # 货位总数\n",
    "for trial in range(num_trials):\n",
    "    # 随机分布货位\n",
    "    distribution_matrix = random_goods_distribution(num_z, num_x, num_y)\n",
    "    \n",
    "    print(f\"Trial {trial + 1}: Goods Distribution Matrix:\")\n",
    "    for layer in distribution_matrix:\n",
    "        print(layer)\n",
    "    \n",
    "    flattened_distribution = [item for sublist in distribution_matrix for item in sublist]\n",
    "\n",
    "    # 在 SAP2000 中添加均布面力\n",
    "    for loc in range(num_loc):\n",
    "        if flattened_distribution[loc] == 1:\n",
    "            #todo：这里的函数名可能不对\n",
    "            #SapModel.Loads.AddSurfaceLoad(\"Load Pattern Name\", surface_index, \"Uniform\", surface_load)  # 在对应虚拟面添加均布面力\n",
    "            sap_object.SapModel.AreaObj.SetLoadSurfacePressure(\"loc\",\"DEAD\",-2,surface_pressure_area,\" \",False,0)  # 设置均布面力大小\n",
    "\n",
    "    #执行模态分析\n",
    "    SapModel.Analyze.RunAnalysis()\n",
    "    ret = SapModel.Analyze.RunAnalysis()\n",
    "    if ret != 0:\n",
    "        print(\"Analysis did not run successfully.\")\n",
    "    else:\n",
    "        print(\"Analysis run successfully.\")\n",
    "\n",
    "    NumberResults = 8\n",
    "    LoadCase = []\n",
    "    StepType = []\n",
    "    StepNum = []\n",
    "    Period = []\n",
    "    Frequency = []\n",
    "    CircFreq = []\n",
    "    EigenValue = []\n",
    "\n",
    "    # 调用函数获取模态数据\n",
    "    result = SapModel.Results.ModalPeriod(NumberResults, LoadCase, StepType, StepNum, Period, Frequency, CircFreq, EigenValue)\n",
    "print(result[6])  # 6 代表CircFreq\n",
    "\n",
    "# 关闭 SAP2000\n",
    "#sap_object.ApplicationExit(False)"
   ]
  }
 ],
 "metadata": {
  "kernelspec": {
   "display_name": "sap2000",
   "language": "python",
   "name": "python3"
  },
  "language_info": {
   "codemirror_mode": {
    "name": "ipython",
    "version": 3
   },
   "file_extension": ".py",
   "mimetype": "text/x-python",
   "name": "python",
   "nbconvert_exporter": "python",
   "pygments_lexer": "ipython3",
   "version": "3.13.0"
  }
 },
 "nbformat": 4,
 "nbformat_minor": 2
}
