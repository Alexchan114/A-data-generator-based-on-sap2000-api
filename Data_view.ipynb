{
 "cells": [
  {
   "cell_type": "code",
   "execution_count": 1,
   "metadata": {},
   "outputs": [
    {
     "name": "stdout",
     "output_type": "stream",
     "text": [
      "data.npz 文件中的数组名称： ['data']\n",
      "\n",
      "数据数组的信息：\n",
      "数据类型： <class 'numpy.ndarray'>\n",
      "数组形状： (10, 3, 49)\n",
      "数据类型（dtype）： int64\n",
      "\n",
      "第一个货位矩阵的形状： (3, 49)\n",
      "第一个货位矩阵的数据类型： int64\n",
      "第一个货位矩阵的内容：\n",
      "[[0 0 1 0 0 1 0 1 1 1 1 1 1 0 1 0 0 0 0 0 0 1 0 0 1 0 0 1 0 0 0 0 1 1 0 1\n",
      "  0 0 0 1 0 1 1 0 0 1 1 1 0]\n",
      " [1 0 0 1 0 0 1 1 0 1 0 1 1 1 1 0 0 1 0 1 0 0 1 0 1 1 1 1 0 0 1 1 0 0 0 1\n",
      "  0 1 0 0 1 0 0 0 1 1 0 1 0]\n",
      " [1 0 1 0 1 0 1 0 1 1 0 0 1 1 0 1 0 0 1 0 0 0 0 0 1 0 0 1 0 0 0 1 0 0 0 1\n",
      "  1 1 1 0 0 1 0 0 0 0 1 0 0]]\n",
      "\n",
      "label.npz 文件中的数组名称： ['label']\n",
      "\n",
      "标签数组的信息：\n",
      "数据类型： <class 'numpy.ndarray'>\n",
      "数组形状： (10, 12)\n",
      "数据类型（dtype）： float64\n",
      "\n",
      "第一个频率矩阵的形状： (12,)\n",
      "第一个频率矩阵的数据类型： float64\n",
      "第一个频率矩阵的内容：\n",
      "[1.38960114 1.4195448  1.5713476  1.60864695 1.81723155 1.83079252\n",
      " 2.1076217  2.19801785 2.48550268 2.53319293 2.71504195 2.82018335]\n"
     ]
    }
   ],
   "source": [
    "import numpy as np\n",
    "import os\n",
    "\n",
    "# 设置数据文件夹路径\n",
    "data_dir = 'train_npz'  \n",
    "\n",
    "# 加载 data.npz 文件\n",
    "data_file = os.path.join(data_dir, 'data.npz')\n",
    "data_npz = np.load(data_file)\n",
    "\n",
    "# 显示 data.npz 文件中的数组名称\n",
    "print(\"data.npz 文件中的数组名称：\", data_npz.files)\n",
    "\n",
    "# 获取并查看数据数组\n",
    "data_array = data_npz['data']\n",
    "\n",
    "print(\"\\n数据数组的信息：\")\n",
    "print(\"数据类型：\", type(data_array))\n",
    "print(\"数组形状：\", data_array.shape)\n",
    "print(\"数据类型（dtype）：\", data_array.dtype)\n",
    "\n",
    "# 示例：查看第一个货位矩阵的结构\n",
    "print(\"\\n第一个货位矩阵的形状：\", data_array[0].shape)\n",
    "print(\"第一个货位矩阵的数据类型：\", data_array[0].dtype)\n",
    "print(\"第一个货位矩阵的内容：\")\n",
    "print(data_array[0])  # 可能会输出大量数据\n",
    "\n",
    "# 加载 label.npz 文件\n",
    "label_file = os.path.join(data_dir, 'label.npz')\n",
    "label_npz = np.load(label_file)\n",
    "\n",
    "# 显示 label.npz 文件中的数组名称\n",
    "print(\"\\nlabel.npz 文件中的数组名称：\", label_npz.files)\n",
    "\n",
    "# 获取并查看标签数组\n",
    "label_array = label_npz['label']\n",
    "\n",
    "print(\"\\n标签数组的信息：\")\n",
    "print(\"数据类型：\", type(label_array))\n",
    "print(\"数组形状：\", label_array.shape)\n",
    "print(\"数据类型（dtype）：\", label_array.dtype)\n",
    "\n",
    "# 示例：查看第一个频率矩阵的结构\n",
    "print(\"\\n第一个频率矩阵的形状：\", label_array[0].shape)\n",
    "print(\"第一个频率矩阵的数据类型：\", label_array[0].dtype)\n",
    "print(\"第一个频率矩阵的内容：\")\n",
    "print(label_array[0])  # 可能会输出大量数据"
   ]
  }
 ],
 "metadata": {
  "kernelspec": {
   "display_name": "sap2000",
   "language": "python",
   "name": "python3"
  },
  "language_info": {
   "codemirror_mode": {
    "name": "ipython",
    "version": 3
   },
   "file_extension": ".py",
   "mimetype": "text/x-python",
   "name": "python",
   "nbconvert_exporter": "python",
   "pygments_lexer": "ipython3",
   "version": "3.13.0"
  }
 },
 "nbformat": 4,
 "nbformat_minor": 2
}
